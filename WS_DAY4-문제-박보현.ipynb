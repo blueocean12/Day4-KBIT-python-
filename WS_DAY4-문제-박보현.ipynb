{
 "cells": [
  {
   "cell_type": "markdown",
   "metadata": {},
   "source": [
    "### Q1\n",
    "- Car 클래스를 아래 메소드에 맞춰 정의하세요.\n",
    "- \\_\\_init\\_\\_ 메소드\n",
    "    - 매개변수 : self, year, driving_distance\n",
    "    - 각 매개변수는 속성으로 저장\n",
    "- info 메소드\n",
    "    - 매개변수 : self\n",
    "    - 속성에 대한 정보를 한 줄씩 출력\n",
    "- drive 메소드\n",
    "    - 매개변수 : self, distance\n",
    "    - driving_distance 속성에 distance를 누적하여 더함\n",
    "    - \"(distance) km를 주행하였습니다.\" 출력"
   ]
  },
  {
   "cell_type": "code",
   "execution_count": 61,
   "metadata": {
    "ExecuteTime": {
     "end_time": "2022-08-04T07:42:25.357970Z",
     "start_time": "2022-08-04T07:42:25.346523Z"
    }
   },
   "outputs": [],
   "source": [
    "class Car :\n",
    "    def __init__(self, year, driving_distance):\n",
    "        self.year = year\n",
    "        self.driving_distance = driving_distance\n",
    "    \n",
    "    def info(self):\n",
    "        print(\"* 차 정보 *\")\n",
    "        print(f\"- 연식 : {self.year}년식\")\n",
    "        print(f\"- 주행거리 : {self.driving_distance} km\")\n",
    "\n",
    "    def drive(self, distance):\n",
    "        self.driving_distance = self.driving_distance + distance\n",
    "        print(f\"{distance} km를 주행하였습니다.\")\n"
   ]
  },
  {
   "cell_type": "code",
   "execution_count": 62,
   "metadata": {
    "ExecuteTime": {
     "end_time": "2022-08-04T07:42:25.678217Z",
     "start_time": "2022-08-04T07:42:25.671126Z"
    }
   },
   "outputs": [
    {
     "name": "stdout",
     "output_type": "stream",
     "text": [
      "* 차 정보 *\n",
      "- 연식 : 1999년식\n",
      "- 주행거리 : 30000 km\n"
     ]
    }
   ],
   "source": [
    "# Car 클래스의 인스턴스를 생성하여 myCar 에 저장하세요.\n",
    "# year = 1999, driving_distance = 30000\n",
    "myCar = Car(year = 1999, driving_distance = 30000)\n",
    "\n",
    "# myCar의 정보를 출력하세요.\n",
    "myCar.info()"
   ]
  },
  {
   "cell_type": "code",
   "execution_count": 63,
   "metadata": {
    "ExecuteTime": {
     "end_time": "2022-08-04T07:42:26.030036Z",
     "start_time": "2022-08-04T07:42:26.012911Z"
    }
   },
   "outputs": [
    {
     "name": "stdout",
     "output_type": "stream",
     "text": [
      "100 km를 주행하였습니다.\n",
      "* 차 정보 *\n",
      "- 연식 : 1999년식\n",
      "- 주행거리 : 30100 km\n"
     ]
    }
   ],
   "source": [
    "# 100 km 주행 후 정보를 출력하세요.\n",
    "myCar.drive(100)\n",
    "myCar.info()"
   ]
  },
  {
   "cell_type": "code",
   "execution_count": 64,
   "metadata": {
    "ExecuteTime": {
     "end_time": "2022-08-04T07:42:26.304019Z",
     "start_time": "2022-08-04T07:42:26.289672Z"
    }
   },
   "outputs": [
    {
     "name": "stdout",
     "output_type": "stream",
     "text": [
      "500 km를 주행하였습니다.\n",
      "* 차 정보 *\n",
      "- 연식 : 1999년식\n",
      "- 주행거리 : 30600 km\n"
     ]
    }
   ],
   "source": [
    "# 500 km 주행 후 정보를 출력하세요.\n",
    "myCar.drive(500)\n",
    "myCar.info()"
   ]
  },
  {
   "cell_type": "markdown",
   "metadata": {},
   "source": [
    "<br/>\n",
    "<br/>\n",
    "<br/>\n",
    "<br/>"
   ]
  },
  {
   "cell_type": "markdown",
   "metadata": {},
   "source": [
    "### Q2\n",
    "- Car 클래스를 상속받아 Electric_car 클래스를 아래 메소드에 맞춰 정의하세요.\n",
    "- \\_\\_init\\_\\_ 메소드\n",
    "    - 매개변수 : self, year, driving_distance, battery_volumne, fuel_efficiency\n",
    "    - year, driving_distance 는 부모 클래스를 오버라이딩\n",
    "    - battery_volumne, fuel_efficiency 는 각각 속성으로 저장\n",
    "- info 메소드\n",
    "    - 매개변수 : self\n",
    "    - 부모 클래스를 오버라이딩\n",
    "    - 추가 속성에 대한 정보를 출력"
   ]
  },
  {
   "cell_type": "code",
   "execution_count": 65,
   "metadata": {
    "ExecuteTime": {
     "end_time": "2022-08-04T07:42:27.473615Z",
     "start_time": "2022-08-04T07:42:27.462009Z"
    }
   },
   "outputs": [],
   "source": [
    "class Electric_car(Car) :\n",
    "    \n",
    "    def __init__(self, year, driving_distance, battery_volumne, fuel_efficiency):\n",
    "        super().__init__(year, driving_distance)\n",
    "        self.battery_volumne = battery_volumne\n",
    "        self.fuel_efficiency = fuel_efficiency\n",
    "        print(\"전기차를 구입했습니다.\")\n",
    "    \n",
    "    def info(self):\n",
    "        super().info()\n",
    "        print(f\"- 배터리 용량 : {self.battery_volumne} kWh\")\n",
    "        print(f\"- 연비 : {self.fuel_efficiency} km / kWh\")\n",
    "\n"
   ]
  },
  {
   "cell_type": "code",
   "execution_count": 66,
   "metadata": {
    "ExecuteTime": {
     "end_time": "2022-08-04T07:42:28.052928Z",
     "start_time": "2022-08-04T07:42:28.046087Z"
    }
   },
   "outputs": [
    {
     "name": "stdout",
     "output_type": "stream",
     "text": [
      "전기차를 구입했습니다.\n",
      "* 차 정보 *\n",
      "- 연식 : 2022년식\n",
      "- 주행거리 : 0 km\n",
      "- 배터리 용량 : 30 kWh\n",
      "- 연비 : 3.6 km / kWh\n"
     ]
    }
   ],
   "source": [
    "# Electric_car 클래스의 인스턴스를 생성하여 myCar 에 저장하세요.\n",
    "# year = 2022, driving_distance = 0, battery_volumne = 30, fuel_efficiency = 3.6\n",
    "myCar = Electric_car(year = 2022, driving_distance = 0, battery_volumne = 30, fuel_efficiency = 3.6)\n",
    "\n",
    "# myCar의 정보를 출력하세요.\n",
    "myCar.info()"
   ]
  },
  {
   "cell_type": "markdown",
   "metadata": {},
   "source": [
    "<br/>\n",
    "<br/>\n",
    "<br/>\n",
    "<br/>"
   ]
  },
  {
   "cell_type": "markdown",
   "metadata": {},
   "source": [
    "### Q3\n",
    "- Electric_car 클래스를 상속받아 Self_driving 클래스를 아래 메소드에 맞춰 정의하세요.\n",
    "- \\_\\_init\\_\\_ 메소드\n",
    "    - 매개변수 : self, year, driving_distance, battery_volumne, fuel_efficiency\n",
    "    - 모든 매개변수는 부모 클래스를 오버라이딩\n",
    "    - auto_mode 속성은 False로 설정\n",
    "    - \"자율주행 차를 구입했습니다.\" 문구 출력\n",
    "- info 메소드\n",
    "    - 매개변수 : self\n",
    "    - 부모 클래스를 오버라이딩\n",
    "    - \"자율주행 가능\" 문구를 출력\n",
    "- turn_auto 메소드\n",
    "    - 매개변수 : self\n",
    "    - auto_mode 속성이 True라면 False로 수정하고, \"자율주행 모드를 종료합니다.\" 문구 출력\n",
    "    - auto_mode 속성이 False라면 True로 수정하고, \"자율주행 모드로 전환합니다.\" 문구 출력"
   ]
  },
  {
   "cell_type": "code",
   "execution_count": 67,
   "metadata": {
    "ExecuteTime": {
     "end_time": "2022-08-04T07:42:29.208393Z",
     "start_time": "2022-08-04T07:42:29.199957Z"
    }
   },
   "outputs": [],
   "source": [
    "class Self_driving(Electric_car) :\n",
    "    \n",
    "    def __init__(self, year, driving_distance, battery_volumne, fuel_efficiency):\n",
    "        super().__init__(year, driving_distance, battery_volumne, fuel_efficiency)\n",
    "        self.auto_mode = False\n",
    "        print(\"자율주행 차를 구입했습니다.\")\n",
    "    \n",
    "    def info(self):\n",
    "        super().info()\n",
    "        print(\"- 자율주행 가능\")\n",
    "        \n",
    "    def turn_auto(self):\n",
    "        if self.auto_mode == True:\n",
    "            self.auto_mode = False\n",
    "            print(\"자율주행 모드를 종료합니다.\")\n",
    "        else:\n",
    "            self.auto_mode = True\n",
    "            print(\"자율주행 모드로 전환합니다.\")\n"
   ]
  },
  {
   "cell_type": "code",
   "execution_count": 68,
   "metadata": {
    "ExecuteTime": {
     "end_time": "2022-08-04T07:42:29.557195Z",
     "start_time": "2022-08-04T07:42:29.552172Z"
    }
   },
   "outputs": [
    {
     "name": "stdout",
     "output_type": "stream",
     "text": [
      "전기차를 구입했습니다.\n",
      "자율주행 차를 구입했습니다.\n",
      "* 차 정보 *\n",
      "- 연식 : 2022년식\n",
      "- 주행거리 : 0 km\n",
      "- 배터리 용량 : 30 kWh\n",
      "- 연비 : 3.6 km / kWh\n",
      "- 자율주행 가능\n"
     ]
    }
   ],
   "source": [
    "# Self_driving 클래스의 인스턴스를 생성하여 myCar 에 저장하세요.\n",
    "# year = 2022, driving_distance = 0, battery_volumne = 30, fuel_efficiency = 3.6\n",
    "myCar = Self_driving(year = 2022, driving_distance = 0, battery_volumne = 30, fuel_efficiency = 3.6)\n",
    "\n",
    "# myCar의 정보를 출력하세요.\n",
    "myCar.info()"
   ]
  },
  {
   "cell_type": "code",
   "execution_count": 69,
   "metadata": {
    "ExecuteTime": {
     "end_time": "2022-08-04T07:42:29.921931Z",
     "start_time": "2022-08-04T07:42:29.913647Z"
    }
   },
   "outputs": [
    {
     "name": "stdout",
     "output_type": "stream",
     "text": [
      "50 km를 주행하였습니다.\n",
      "* 차 정보 *\n",
      "- 연식 : 2022년식\n",
      "- 주행거리 : 50 km\n",
      "- 배터리 용량 : 30 kWh\n",
      "- 연비 : 3.6 km / kWh\n",
      "- 자율주행 가능\n"
     ]
    }
   ],
   "source": [
    "# 50 km 주행 후 정보를 출력하세요.\n",
    "myCar.drive(50)\n",
    "myCar.info()"
   ]
  },
  {
   "cell_type": "code",
   "execution_count": 70,
   "metadata": {
    "ExecuteTime": {
     "end_time": "2022-08-04T07:42:30.336198Z",
     "start_time": "2022-08-04T07:42:30.325016Z"
    }
   },
   "outputs": [
    {
     "name": "stdout",
     "output_type": "stream",
     "text": [
      "자율주행 모드로 전환합니다.\n"
     ]
    }
   ],
   "source": [
    "# 자율주행 모드로 전환하세요.\n",
    "myCar.turn_auto()"
   ]
  },
  {
   "cell_type": "code",
   "execution_count": 71,
   "metadata": {
    "ExecuteTime": {
     "end_time": "2022-08-04T07:42:30.747824Z",
     "start_time": "2022-08-04T07:42:30.737016Z"
    }
   },
   "outputs": [
    {
     "name": "stdout",
     "output_type": "stream",
     "text": [
      "자율주행 모드를 종료합니다.\n"
     ]
    }
   ],
   "source": [
    "# 자율주행 모드로 전환하세요.\n",
    "myCar.turn_auto()"
   ]
  },
  {
   "cell_type": "markdown",
   "metadata": {},
   "source": [
    "<br/>\n",
    "<br/>\n",
    "<br/>\n",
    "<br/>"
   ]
  },
  {
   "cell_type": "markdown",
   "metadata": {},
   "source": [
    "### Q4\n",
    "- Q1의 Car 클래스에서 정보 출력을 info 메소드 대신 \\_\\_str\\_\\_ 메소드를 사용하여 정의하세요."
   ]
  },
  {
   "cell_type": "code",
   "execution_count": 72,
   "metadata": {
    "ExecuteTime": {
     "end_time": "2022-08-04T07:42:32.099261Z",
     "start_time": "2022-08-04T07:42:32.091856Z"
    }
   },
   "outputs": [],
   "source": [
    "class Car :\n",
    "    def __init__(self, year, driving_distance):\n",
    "        self.year = year\n",
    "        self.driving_distance = driving_distance\n",
    "        \n",
    "    def __str__(self):\n",
    "        return f\"* 차 정보 * \\n - 연식 : {self.year}년식 \\n - 주행거리 : {self.driving_distance} km\"\n",
    "    \n"
   ]
  },
  {
   "cell_type": "code",
   "execution_count": 73,
   "metadata": {
    "ExecuteTime": {
     "end_time": "2022-08-04T07:42:32.553970Z",
     "start_time": "2022-08-04T07:42:32.540586Z"
    }
   },
   "outputs": [
    {
     "name": "stdout",
     "output_type": "stream",
     "text": [
      "* 차 정보 * \n",
      " - 연식 : 2010년식 \n",
      " - 주행거리 : 15000 km\n"
     ]
    }
   ],
   "source": [
    "# Car 클래스의 인스턴스를 생성하여 myCar 에 저장하세요.\n",
    "# year = 2010, driving_distance = 15000\n",
    "myCar = Car(2010, 15000)\n",
    "\n",
    "# myCar의 정보를 출력하세요.\n",
    "print(myCar)"
   ]
  },
  {
   "cell_type": "markdown",
   "metadata": {},
   "source": [
    "<br/>\n",
    "<br/>\n",
    "<br/>\n",
    "<br/>"
   ]
  },
  {
   "cell_type": "markdown",
   "metadata": {},
   "source": [
    "### Q5\n",
    "- Q2의 Electric_car 클래스에서 정보 출력을 info 메소드 대신 \\_\\_str\\_\\_ 메소드를 사용하여 정의하세요.\n",
    "    - year, driving_distance 속성은 부모의 \\_\\_str\\_\\_ 메소드를 오버라이딩"
   ]
  },
  {
   "cell_type": "code",
   "execution_count": 74,
   "metadata": {
    "ExecuteTime": {
     "end_time": "2022-08-04T07:42:33.879336Z",
     "start_time": "2022-08-04T07:42:33.860268Z"
    }
   },
   "outputs": [],
   "source": [
    "class Electric_car(Car) :\n",
    "    \n",
    "    def __init__(self, year, driving_distance, battery_volumne, fuel_efficiency):\n",
    "        super().__init__(year, driving_distance)\n",
    "        self.battery_volumne = battery_volumne\n",
    "        self.fuel_efficiency = fuel_efficiency\n",
    "        print(\"전기차를 구입했습니다.\")\n",
    "    \n",
    "    def __str__(self):\n",
    "        return f\" {super().__str__()} \\n - 배터리 용량 : {self.battery_volumne} kWh \\n - 연비 : {self.fuel_efficiency} km / kWh\"\n",
    "    "
   ]
  },
  {
   "cell_type": "code",
   "execution_count": 75,
   "metadata": {
    "ExecuteTime": {
     "end_time": "2022-08-04T07:42:42.960731Z",
     "start_time": "2022-08-04T07:42:42.945733Z"
    }
   },
   "outputs": [
    {
     "name": "stdout",
     "output_type": "stream",
     "text": [
      "전기차를 구입했습니다.\n",
      " * 차 정보 * \n",
      " - 연식 : 2022년식 \n",
      " - 주행거리 : 0 km \n",
      " - 배터리 용량 : 30 kWh \n",
      " - 연비 : 3.6 km / kWh\n"
     ]
    }
   ],
   "source": [
    "# Electric_car 클래스의 인스턴스를 생성하여 myCar 에 저장하세요.\n",
    "# year = 2022, driving_distance = 0, battery_volumne = 30, fuel_efficiency = 3.6\n",
    "myCar = Electric_car(year = 2022, driving_distance = 0, battery_volumne = 30, fuel_efficiency = 3.6)\n",
    "\n",
    "# myCar의 정보를 출력하세요.\n",
    "print(myCar)"
   ]
  },
  {
   "cell_type": "code",
   "execution_count": null,
   "metadata": {},
   "outputs": [],
   "source": []
  }
 ],
 "metadata": {
  "hide_input": false,
  "kernelspec": {
   "display_name": "Python 3 (ipykernel)",
   "language": "python",
   "name": "python3"
  },
  "language_info": {
   "codemirror_mode": {
    "name": "ipython",
    "version": 3
   },
   "file_extension": ".py",
   "mimetype": "text/x-python",
   "name": "python",
   "nbconvert_exporter": "python",
   "pygments_lexer": "ipython3",
   "version": "3.9.12"
  },
  "toc": {
   "base_numbering": 1,
   "nav_menu": {},
   "number_sections": true,
   "sideBar": true,
   "skip_h1_title": false,
   "title_cell": "Table of Contents",
   "title_sidebar": "Contents",
   "toc_cell": false,
   "toc_position": {},
   "toc_section_display": true,
   "toc_window_display": false
  },
  "varInspector": {
   "cols": {
    "lenName": 16,
    "lenType": 16,
    "lenVar": 40
   },
   "kernels_config": {
    "python": {
     "delete_cmd_postfix": "",
     "delete_cmd_prefix": "del ",
     "library": "var_list.py",
     "varRefreshCmd": "print(var_dic_list())"
    },
    "r": {
     "delete_cmd_postfix": ") ",
     "delete_cmd_prefix": "rm(",
     "library": "var_list.r",
     "varRefreshCmd": "cat(var_dic_list()) "
    }
   },
   "types_to_exclude": [
    "module",
    "function",
    "builtin_function_or_method",
    "instance",
    "_Feature"
   ],
   "window_display": false
  }
 },
 "nbformat": 4,
 "nbformat_minor": 4
}
