{
 "cells": [
  {
   "cell_type": "code",
   "execution_count": 2,
   "id": "d6c31006",
   "metadata": {},
   "outputs": [
    {
     "name": "stdout",
     "output_type": "stream",
     "text": [
      "a= 100\n"
     ]
    }
   ],
   "source": [
    "#변수 \n",
    "a = 100\n",
    "#함수 \n",
    "def print_info():\n",
    "    print(\"a=\", a)\n",
    "    \n",
    "print_info()\n"
   ]
  },
  {
   "cell_type": "code",
   "execution_count": 3,
   "id": "91631dfa",
   "metadata": {},
   "outputs": [
    {
     "ename": "NameError",
     "evalue": "name '데이터관리' is not defined",
     "output_type": "error",
     "traceback": [
      "\u001b[1;31m---------------------------------------------------------------------------\u001b[0m",
      "\u001b[1;31mNameError\u001b[0m                                 Traceback (most recent call last)",
      "Input \u001b[1;32mIn [3]\u001b[0m, in \u001b[0;36m<cell line: 1>\u001b[1;34m()\u001b[0m\n\u001b[1;32m----> 1\u001b[0m \u001b[43m데이터관리\u001b[49m \n\u001b[0;32m      2\u001b[0m 데이터 \u001b[38;5;241m-\u001b[39m 정보(단일, 복합)\n\u001b[0;32m      3\u001b[0m 관리 \u001b[38;5;241m-\u001b[39m 등록,검색, 수정,삭제\n",
      "\u001b[1;31mNameError\u001b[0m: name '데이터관리' is not defined"
     ]
    }
   ],
   "source": [
    "데이터관리 \n",
    "데이터 - 정보(단일, 복합)\n",
    "관리 - 등록,검색, 수정,삭제\n",
    "\n",
    "int, float, str ->단일정보 \n",
    "list, set, dict -> 복합정보\n",
    " 이름:값 \n",
    " 상품정보 - 이름:냉장고, 크기:200, 공장도가격=100000 ...."
   ]
  },
  {
   "cell_type": "code",
   "execution_count": 5,
   "id": "d701378b",
   "metadata": {},
   "outputs": [
    {
     "name": "stdout",
     "output_type": "stream",
     "text": [
      "냉장고 LG 200 1000000\n",
      "세탁기 삼성 10 500000\n"
     ]
    }
   ],
   "source": [
    "#상품정보 전용 데이터타입 \n",
    "class Product:\n",
    "    \n",
    "    count=0\n",
    "    \n",
    "    \n",
    "    def __init__(self, type, 제조사, 크기, 가격):\n",
    "        self.type = type\n",
    "        self.제조사 = 제조사\n",
    "        self.크기 = 크기\n",
    "        self.가격 = 가격\n",
    "        Product.count += 1\n",
    "    def __del__(self):\n",
    "        print(\"object removed!\")\n",
    "    def print_info(self):\n",
    "        print(self.type, self.제조사, self.크기, self.가격)\n",
    "        \n",
    "        \n",
    "p1 = Product(type=\"냉장고\", 제조사=\"LG\", 크기=200,가격=1000000)\n",
    "p1.print_info() #내용확인 \n",
    "p2 = Product(type=\"세탁기\", 제조사=\"삼성\", 크기=10,가격=500000)\n",
    "p2.print_info() #내용확인 \n"
   ]
  },
  {
   "cell_type": "code",
   "execution_count": 3,
   "id": "ec90341a",
   "metadata": {},
   "outputs": [
    {
     "data": {
      "text/plain": [
       "2"
      ]
     },
     "execution_count": 3,
     "metadata": {},
     "output_type": "execute_result"
    }
   ],
   "source": [
    "Product.count"
   ]
  },
  {
   "cell_type": "code",
   "execution_count": 6,
   "id": "c09eb784",
   "metadata": {},
   "outputs": [
    {
     "name": "stdout",
     "output_type": "stream",
     "text": [
      "object removed!\n"
     ]
    }
   ],
   "source": [
    "del p1"
   ]
  },
  {
   "cell_type": "code",
   "execution_count": 7,
   "id": "d672f62d",
   "metadata": {},
   "outputs": [],
   "source": [
    "p3 =p2\n",
    "del p2"
   ]
  },
  {
   "cell_type": "code",
   "execution_count": 8,
   "id": "1f081d34",
   "metadata": {},
   "outputs": [
    {
     "name": "stdout",
     "output_type": "stream",
     "text": [
      "object removed!\n"
     ]
    }
   ],
   "source": [
    "del p3"
   ]
  },
  {
   "cell_type": "code",
   "execution_count": 29,
   "id": "3f65864b",
   "metadata": {},
   "outputs": [
    {
     "name": "stdout",
     "output_type": "stream",
     "text": [
      "김길동\n",
      "소프트웨어공학과 1011\n"
     ]
    }
   ],
   "source": [
    "#p126 \n",
    "# 클래스 : 변수와 함수를 묶기위함 (설계도), 데이터를 저장할 때\n",
    "# 함수\n",
    "class Person:\n",
    "    def __init__(self, name):    #초기화함수 (?)\n",
    "        self.name = name\n",
    "    def print_info(self) : \n",
    "        print(self.name)\n",
    "    def __str__(self): #객체의 상태를 문자열로 반환한다\n",
    "        return self.name\n",
    "    def __repr__(self): # 객체를 복원할 수 있도록 만들어주는 \n",
    "        return f'Person(\"{self.name}\")'\n",
    "    \n",
    "    \n",
    "class Student(Person):\n",
    "    def __init__(self, name, hakgwa, hakbun):\n",
    "        super().__init__(name) # 부모클래스에 있는 데이터를 가져온다 \n",
    "        self.hakgwa = hakgwa #자식클래스 사용\n",
    "        self.hakbun = hakbun #자식클래스 사용\n",
    "    def print_info(self) : \n",
    "        super().print_info()\n",
    "        print(self.hakgwa, self.hakbun)\n",
    "    def __str__(self): #객체의 현재 상태를 문자열로 반환한다 ( + __repr__:객체의 복원을 만드는 값)\n",
    "        return f\"{super().__str__()}, {self.hakbun}, {self.hakgwa}\"  #부모클래스에 있는 변수를 문자열로 변환한다\n",
    "\n",
    "        \n",
    "# p1 = Person(\"홍길동\")\n",
    "# p1.print_info()\n",
    "s1 = Student(\"김길동\",hakgwa=\"소프트웨어공학과\", hakbun= 1011) #학번이라고 안적고 1011만 적어도 가능\n",
    "s1.print_info()\n",
    "\n",
    "# e1 = Employee(\"김대리\",\"개발1팀\", 95011)\n",
    "# e1.print_info() # 오류가 나오는 이유는 Employee class가 없기 때문에\n",
    "\n",
    "# t1 = teacher(\"박교수\", \"컴퓨터공학과\",2011) \n",
    "# class를 통해 모든 이름을 관리한다."
   ]
  },
  {
   "cell_type": "code",
   "execution_count": 24,
   "id": "a232f45e",
   "metadata": {},
   "outputs": [
    {
     "name": "stdout",
     "output_type": "stream",
     "text": [
      "홍길동\n",
      "김길동, 1011, 소프트웨어공학과\n"
     ]
    }
   ],
   "source": [
    "print(p1) #내부적으로 __str__이 문자열로 반환시켜준다\n",
    "print(s1)"
   ]
  },
  {
   "cell_type": "code",
   "execution_count": null,
   "id": "e66991c5",
   "metadata": {},
   "outputs": [],
   "source": [
    "#p129 모듈\n",
    "코드 + 코드 = 함수\n",
    "함수 + 변수 : 클래스\n",
    "함수 + 변수 + 클래스 = 모듈"
   ]
  },
  {
   "cell_type": "code",
   "execution_count": 31,
   "id": "20167f56",
   "metadata": {},
   "outputs": [
    {
     "data": {
      "text/plain": [
       "3"
      ]
     },
     "execution_count": 31,
     "metadata": {},
     "output_type": "execute_result"
    }
   ],
   "source": [
    "#p132 - 사람 취향차이로 사용한다\n",
    "import random\n",
    "random.randint(1,3)\n",
    "# ==같은 의미== #\n",
    "import random as rd\n",
    "rd.randint(1,3)\n",
    "# ==같은 의미== #\n",
    "from random import randint ##머신러닝, 많이 사용\n",
    "randint(1,3)\n",
    "# ==같은 의미== #\n",
    "from random import randint as rd\n",
    "rd(1,3)"
   ]
  },
  {
   "cell_type": "code",
   "execution_count": 41,
   "id": "fbb866f4",
   "metadata": {},
   "outputs": [
    {
     "name": "stdout",
     "output_type": "stream",
     "text": [
      "Writing my_calc.py\n"
     ]
    }
   ],
   "source": [
    "%%writefile my_calc.py ##오타 조심하기!!!!\n",
    "myname = \"홍길동\"\n",
    "\n",
    "def plus(a, b):\n",
    "    return a+b\n",
    "def minus(a, b):\n",
    "    return a-b\n",
    "\n"
   ]
  },
  {
   "cell_type": "code",
   "execution_count": 43,
   "id": "212a9de9",
   "metadata": {},
   "outputs": [
    {
     "name": "stdout",
     "output_type": "stream",
     "text": [
      "7\n",
      "-1\n",
      "홍길동\n"
     ]
    }
   ],
   "source": [
    "import my_calc\n",
    "print(my_calc.plus(3,4))\n",
    "print(my_calc.minus(3,4))\n",
    "print(my_calc.myname)"
   ]
  },
  {
   "cell_type": "code",
   "execution_count": 6,
   "id": "a7a0de5d",
   "metadata": {},
   "outputs": [],
   "source": [
    "import my_calc"
   ]
  },
  {
   "cell_type": "code",
   "execution_count": 5,
   "id": "3f5c2e96",
   "metadata": {},
   "outputs": [
    {
     "name": "stdout",
     "output_type": "stream",
     "text": [
      "1~100사이 숫자 입력2\n",
      "1번째 시도\n",
      "높여주세요\n",
      "1~100사이 숫자 입력4\n",
      "2번째 시도\n",
      "높여주세요\n",
      "1~100사이 숫자 입력4\n",
      "3번째 시도\n",
      "높여주세요\n",
      "1~100사이 숫자 입력85\n",
      "4번째 시도\n",
      "낮춰주세요\n",
      "1~100사이 숫자 입력50\n",
      "5번째 시도\n",
      "높여주세요\n",
      "1~100사이 숫자 입력70\n",
      "6번째 시도\n",
      "낮춰주세요\n",
      "1~100사이 숫자 입력60\n",
      "7번째 시도\n",
      "낮춰주세요\n",
      "1~100사이 숫자 입력55\n",
      "8번째 시도\n",
      "정답입니다\n"
     ]
    }
   ],
   "source": [
    "import find_number\n",
    "find_number.start_game()"
   ]
  },
  {
   "cell_type": "code",
   "execution_count": 3,
   "id": "a9ba642e",
   "metadata": {},
   "outputs": [
    {
     "name": "stdout",
     "output_type": "stream",
     "text": [
      "예외메시지 [Errno 2] No such file or directory: 'mypeom.txt'\n",
      "close file\n"
     ]
    }
   ],
   "source": [
    "#p.143 예외 처리 코드 \n",
    "f=None #파일이 열리지 않은 상태\n",
    "try:\n",
    "    f=open(\"my_poem.txt\", \"r\")\n",
    "except FileNotFoundError as e:\n",
    "    print(\"예외메시지 {}\".format(e))\n",
    "else:\n",
    "    print(f.readlines())\n",
    "finally:\n",
    "    if f != None: #오류가 생겨도 바로 닫는다\n",
    "        f.close()\n",
    "    print(\"close file\")\n"
   ]
  },
  {
   "cell_type": "code",
   "execution_count": 17,
   "id": "29d0b4b7",
   "metadata": {},
   "outputs": [
    {
     "name": "stdout",
     "output_type": "stream",
     "text": [
      "lines ['구름에 \\n', '달 가듯이\\n', '가는\\n', '나그네\\n']\n"
     ]
    }
   ],
   "source": [
    "#p.143\n",
    "# 함수실행결과 정상실행과 오류실행을 처리해야한다. \n",
    "try:\n",
    "    f=open(\"my_poem.txt\", \"r\", encoding = \"utf-8\") #유니코드\n",
    "    lines = f.readlines()\n",
    "    print(\"lines\", lines)\n",
    "    f.close()\n",
    "except FileNotFoundError:\n",
    "    print(\"파일이 없습니다.\")\n",
    "except UnicodeDecodeError:\n",
    "    print(\"encoding 파라미터를 지정하세요\")\n",
    "else:\n",
    "    lines = f.readlines()\n",
    "    print(\"lines\", lines)\n",
    "    f.close()\n",
    "\n",
    "#파일 불러오고 >담고 > 불러오기"
   ]
  },
  {
   "cell_type": "code",
   "execution_count": 11,
   "id": "68970b98",
   "metadata": {},
   "outputs": [
    {
     "name": "stdout",
     "output_type": "stream",
     "text": [
      "Overwriting my_poem.txt\n"
     ]
    }
   ],
   "source": [
    "%%writefile my_poem.txt\n",
    "구름에 \n",
    "달 가듯이\n",
    "가는\n",
    "나그네"
   ]
  },
  {
   "cell_type": "code",
   "execution_count": 19,
   "id": "3272846b",
   "metadata": {},
   "outputs": [
    {
     "name": "stdout",
     "output_type": "stream",
     "text": [
      "['구름에', '달 가듯이', '가는', '나그네']\n",
      "구름에\n",
      "달 가듯이\n",
      "가는\n",
      "나그네\n"
     ]
    }
   ],
   "source": [
    "f=open(\"my_poem.txt\", \"r\", encoding = \"utf-8\") #유니코드\n",
    "lines = f.readlines()\n",
    "f.close()\n",
    "lines = [s.strip() for s in lines ] #lines안의 항목을 s에 저장하고 다시 s로 넣어라 #간단한 가공작업(comprehension)\n",
    "#문자열 앞의 공백을 지운다 =strip\n",
    "print(lines)\n",
    "for s in lines:\n",
    "    print(s)"
   ]
  },
  {
   "cell_type": "code",
   "execution_count": 20,
   "id": "c924b208",
   "metadata": {},
   "outputs": [
    {
     "name": "stdout",
     "output_type": "stream",
     "text": [
      "['구름에 \\n', '달 가듯이\\n', '가는\\n', '나그네\\n']\n"
     ]
    }
   ],
   "source": [
    "with open(\"my_poem.txt\", \"r\", encoding = \"utf-8\") as f: #유니코드\n",
    "    lines = f.readlines()\n",
    "print(lines)"
   ]
  },
  {
   "cell_type": "code",
   "execution_count": null,
   "id": "9d414927",
   "metadata": {},
   "outputs": [],
   "source": []
  }
 ],
 "metadata": {
  "kernelspec": {
   "display_name": "Python 3 (ipykernel)",
   "language": "python",
   "name": "python3"
  },
  "language_info": {
   "codemirror_mode": {
    "name": "ipython",
    "version": 3
   },
   "file_extension": ".py",
   "mimetype": "text/x-python",
   "name": "python",
   "nbconvert_exporter": "python",
   "pygments_lexer": "ipython3",
   "version": "3.9.12"
  }
 },
 "nbformat": 4,
 "nbformat_minor": 5
}
